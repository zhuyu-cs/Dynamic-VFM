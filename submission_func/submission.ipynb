{
 "cells": [
  {
   "cell_type": "code",
   "execution_count": null,
   "metadata": {},
   "outputs": [],
   "source": [
    "# generate results for main track based on ensembling 31 models\n",
    "from Ensemble_func_mainTrack import main_mainTrack\n",
    "data_root = '/data/Sensorium_Series/data/Video2activity/'      #! the path of competition datasets.\n",
    "gpus = [0,1,2,3,4,5,6,7]                                       #! more gpus could speed up the computation.\n",
    "main_mainTrack(data_root,gpus) \n",
    "\n",
    "# note: this may take about 1.5-2 hours hours on 8 2080Ti GPUs"
   ]
  },
  {
   "cell_type": "code",
   "execution_count": null,
   "metadata": {},
   "outputs": [],
   "source": [
    "# generate results for main track based on ensembling 31 models\n",
    "from Ensemble_func_OODTrack import main_OODTrack\n",
    "data_root = '/data/Sensorium_Series/data/Video2activity/'      #! the path of competition datasets.\n",
    "gpus = [0,1,2,3,4,5,6,7]                                       #! more gpus could speed up the computation.\n",
    "main_OODTrack(data_root,gpus) \n",
    "\n",
    "# note: this may take about 4-5 hours hours on 8 2080Ti GPUs"
   ]
  },
  {
   "cell_type": "code",
   "execution_count": null,
   "metadata": {},
   "outputs": [],
   "source": [
    "\n",
    "# generate results for OOD track based on ensembling 31 models\n",
    "from single_model_mainTrack import single_model_mainTrack\n",
    "data_root = '/data/Sensorium_Series/data/Video2activity/'      #! the path of competition datasets. \n",
    "gpus = [0,1,2,3,4,5,6,7]                                       #! more gpus could speed up the computation.\n",
    "single_model_mainTrack(data_root,gpus) \n",
    "# note: this may take a long time on 8 2080Ti GPUs"
   ]
  },
  {
   "cell_type": "code",
   "execution_count": null,
   "metadata": {},
   "outputs": [],
   "source": [
    "# if you want to test each model's performance.\n",
    "from single_model_OODTrack import single_model_OODTrack\n",
    "data_root = '/data/Sensorium_Series/data/Video2activity/'      #! the path of competition datasets.\n",
    "gpus = [0,1,2,3,4,5,6,7]                                       #! more gpus could speed up the computation.\n",
    "single_model_OODTrack(data_root,gpus) \n",
    "# note: this may take a long time on 8 2080Ti GPUs\n"
   ]
  }
 ],
 "metadata": {
  "language_info": {
   "name": "python"
  },
  "orig_nbformat": 4
 },
 "nbformat": 4,
 "nbformat_minor": 2
}
